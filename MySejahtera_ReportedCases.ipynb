{
  "nbformat": 4,
  "nbformat_minor": 0,
  "metadata": {
    "colab": {
      "name": "MySejahtera_ReportedCases.ipynb",
      "provenance": [],
      "collapsed_sections": [],
      "authorship_tag": "ABX9TyPZgpOUmZieQ5ZE+EFZ1mez",
      "include_colab_link": true
    },
    "kernelspec": {
      "name": "python3",
      "display_name": "Python 3"
    },
    "language_info": {
      "name": "python"
    }
  },
  "cells": [
    {
      "cell_type": "markdown",
      "metadata": {
        "id": "view-in-github",
        "colab_type": "text"
      },
      "source": [
        "<a href=\"https://colab.research.google.com/github/atlas-github/mysejahtera_reportedcases/blob/main/MySejahtera_ReportedCases.ipynb\" target=\"_parent\"><img src=\"https://colab.research.google.com/assets/colab-badge.svg\" alt=\"Open In Colab\"/></a>"
      ]
    },
    {
      "cell_type": "code",
      "metadata": {
        "id": "EbRHGAjpO44p"
      },
      "source": [
        "#authentication and user agent\n",
        "\n",
        "import uuid, base64 \n",
        "\n",
        "user_agent = 'Mozilla/5.0 (Linux; U; Android 2.2.1; en-us; Nexus One Build/FRG83) AppleWebKit/533.1 (KHTML, like Gecko) Version/4.0 Mobile Safari/533.1'\n",
        "\n",
        "auth_token = str(uuid.uuid1())\n",
        "auth_token2 = base64.b64encode( (auth_token + ':' + auth_token).encode() ).decode()\n",
        "basic_auth = 'Basic ' + auth_token2"
      ],
      "execution_count": 2,
      "outputs": []
    },
    {
      "cell_type": "code",
      "metadata": {
        "id": "HwKvFWo_O96A"
      },
      "source": [
        "def create_session():\n",
        "    session = requests.Session()\n",
        "    session.headers = {\n",
        "        'User-Agent': user_agent,\n",
        "        'Accept': 'application/json',\n",
        "        'Accept-Charset': 'UTF-8',\n",
        "        'Accept-Encoding': 'gzip',\n",
        "        'Content-Type': 'application/json',\n",
        "        'Content-Encoding': 'gzip',\n",
        "        'Authorization': basic_auth,\n",
        "        'Connection': 'Keep-Alive'\n",
        "    }\n",
        "    return session"
      ],
      "execution_count": 3,
      "outputs": []
    },
    {
      "cell_type": "code",
      "metadata": {
        "id": "dTFEQg0YayNk"
      },
      "source": [
        "#requests URL\n",
        "\n",
        "import requests\n",
        "url = \"https://mysejahtera.malaysia.gov.my/register/api/nearby/hotspots?type=locateme\""
      ],
      "execution_count": 4,
      "outputs": []
    },
    {
      "cell_type": "code",
      "metadata": {
        "id": "ZN15GslFa0o0"
      },
      "source": [
        "def mysj_hotspot(lat, lng, session):\n",
        "    response = session.post(url, data='[{\"lat\":' + str(lat) + ',\"lng\":' + str(lng) + ',\"classification\":\"LOW_RISK_NS\"}]')\n",
        "    return response.text"
      ],
      "execution_count": 5,
      "outputs": []
    },
    {
      "cell_type": "code",
      "metadata": {
        "colab": {
          "base_uri": "https://localhost:8080/",
          "height": 52
        },
        "id": "9cImGJeMa2NI",
        "outputId": "f1366ab2-b6f2-4fa2-9708-87c3ea83f02c"
      },
      "source": [
        "#get number of reported cases\n",
        "\n",
        "cases = mysj_hotspot(3.127404, 101.665499, create_session())\n",
        "cases"
      ],
      "execution_count": 7,
      "outputs": [
        {
          "output_type": "execute_result",
          "data": {
            "application/vnd.google.colaboratory.intrinsic+json": {
              "type": "string"
            },
            "text/plain": [
              "'{\"hotSpots\":[],\"zoneType\":\"RED\",\"messages\":{\"ms_MY\":\"Hai {name}, terdapat 24 kes COVID-19 dalam lingkungan radius 1km dari lokasi anda yang dilaporkan dalam masa 14 hari yang lepas.\",\"en_US\":\"Hi {name}, there have been 24 reported case(s) of COVID-19 within a 1km radius from your current location in the last 14 days.\"},\"note\":null}'"
            ]
          },
          "metadata": {
            "tags": []
          },
          "execution_count": 7
        }
      ]
    },
    {
      "cell_type": "code",
      "metadata": {
        "colab": {
          "base_uri": "https://localhost:8080/",
          "height": 35
        },
        "id": "zgMH0T2qa31R",
        "outputId": "b8852636-67ff-42b9-9706-198b7224a85b"
      },
      "source": [
        "#filter to number\n",
        "\n",
        "cases[cases.find(\"terdapat \") + len(\"terdapat \"):cases.rfind(\"kes\")]"
      ],
      "execution_count": 9,
      "outputs": [
        {
          "output_type": "execute_result",
          "data": {
            "application/vnd.google.colaboratory.intrinsic+json": {
              "type": "string"
            },
            "text/plain": [
              "'24 '"
            ]
          },
          "metadata": {
            "tags": []
          },
          "execution_count": 9
        }
      ]
    },
    {
      "cell_type": "code",
      "metadata": {
        "id": "N0k5u1wPbUsf"
      },
      "source": [
        ""
      ],
      "execution_count": null,
      "outputs": []
    }
  ]
}